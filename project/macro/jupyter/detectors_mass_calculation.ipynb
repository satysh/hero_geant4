{
 "cells": [
  {
   "cell_type": "code",
   "execution_count": 26,
   "id": "fc2e3479",
   "metadata": {},
   "outputs": [],
   "source": [
    "from math import pi\n",
    "from math import log\n",
    "import matplotlib.pyplot as plt"
   ]
  },
  {
   "cell_type": "markdown",
   "id": "151d613b",
   "metadata": {},
   "source": [
    "# Расчет массы детектора"
   ]
  },
  {
   "cell_type": "code",
   "execution_count": 2,
   "id": "7d5d7d82",
   "metadata": {},
   "outputs": [],
   "source": [
    "NORM = (4. / 3. ) * pi\n",
    "RO_SCINT = 1.032 # g / cm3\n",
    "RO_W = 19.3 # g / cm3\n",
    "RO_H = 0.0000899 # g / cm3\n",
    "RO_B = 2.34 # g / cm3"
   ]
  },
  {
   "cell_type": "code",
   "execution_count": 3,
   "id": "619799cc",
   "metadata": {},
   "outputs": [],
   "source": [
    "def scint_vol(R):\n",
    "    res = 0.\n",
    "    for r in range(1, R + 1):\n",
    "        res += 2.7 * r**2 - 2.97 * r + 0.999\n",
    "        \n",
    "    return NORM * res"
   ]
  },
  {
   "cell_type": "code",
   "execution_count": 4,
   "id": "fbce5b33",
   "metadata": {},
   "outputs": [],
   "source": [
    "def w_vol(R):\n",
    "    res = 0.\n",
    "    for r in range(1, R + 1):\n",
    "        res += 0.3 * r**2 - 0.03 * r + 0.001\n",
    "    \n",
    "    return NORM * res"
   ]
  },
  {
   "cell_type": "code",
   "execution_count": 5,
   "id": "459dfbf1",
   "metadata": {},
   "outputs": [],
   "source": [
    "Radius = 125 # cm"
   ]
  },
  {
   "cell_type": "code",
   "execution_count": 6,
   "id": "39cdf8c5",
   "metadata": {},
   "outputs": [
    {
     "name": "stdout",
     "output_type": "stream",
     "text": [
      "detectors mass is 23.55 tons\n",
      "scint mass is 7.59 tons\n",
      "w mass is 15.96 tons\n"
     ]
    }
   ],
   "source": [
    "det_mass = RO_SCINT * scint_vol(Radius) + RO_W * w_vol(Radius)\n",
    "print('detectors mass is', round(det_mass / 10**6, 2), 'tons')\n",
    "print('scint mass is', round(RO_SCINT * scint_vol(Radius) / 10**6, 2), 'tons')\n",
    "print('w mass is', round(RO_W * w_vol(Radius) / 10**6, 2), 'tons')"
   ]
  },
  {
   "cell_type": "code",
   "execution_count": 7,
   "id": "1fc4b83a",
   "metadata": {},
   "outputs": [],
   "source": [
    "RO_SCINT = 1.1006 # g / cm3\n",
    "RO_W = 19.25 # g / cm3"
   ]
  },
  {
   "cell_type": "code",
   "execution_count": 8,
   "id": "b0d4ab65",
   "metadata": {},
   "outputs": [
    {
     "name": "stdout",
     "output_type": "stream",
     "text": [
      "detectors mass is 24.01 tons\n",
      "scint mass is 8.09 tons\n",
      "w mass is 15.92 tons\n"
     ]
    }
   ],
   "source": [
    "det_mass = RO_SCINT * scint_vol(Radius) + RO_W * w_vol(Radius)\n",
    "print('detectors mass is', round(det_mass / 10**6, 2), 'tons')\n",
    "print('scint mass is', round(RO_SCINT * scint_vol(Radius) / 10**6, 2), 'tons')\n",
    "print('w mass is', round(RO_W * w_vol(Radius) / 10**6, 2), 'tons')"
   ]
  },
  {
   "cell_type": "markdown",
   "id": "87c3d88a",
   "metadata": {},
   "source": [
    "# Исследование радиационной длины детектора"
   ]
  },
  {
   "cell_type": "markdown",
   "id": "2a56ac9c",
   "metadata": {},
   "source": [
    "Радиационная длина это растояние, которое проходит частица в веществе и ее энергия при этом уменьшается в е раз."
   ]
  },
  {
   "cell_type": "code",
   "execution_count": 9,
   "id": "cd1ff971",
   "metadata": {},
   "outputs": [],
   "source": [
    "def X0(A, Z, ro):\n",
    "    x0 = 716.4 * A / (Z * (Z + 1) * log(287 / Z**0.5))\n",
    "    print(round(x0, 2), 'g / cm2;', round(x0 / ro, 2), 'cm')"
   ]
  },
  {
   "cell_type": "code",
   "execution_count": 10,
   "id": "6c774ed5",
   "metadata": {},
   "outputs": [
    {
     "name": "stdout",
     "output_type": "stream",
     "text": [
      "6.77 g / cm2; 0.35 cm\n"
     ]
    }
   ],
   "source": [
    "# W\n",
    "X0(183.84, 74, RO_W)"
   ]
  },
  {
   "cell_type": "code",
   "execution_count": null,
   "id": "6003c271",
   "metadata": {},
   "outputs": [],
   "source": [
    "# C\n",
    "X0(12.0096, 6, 2.24)"
   ]
  },
  {
   "cell_type": "markdown",
   "id": "8be7c0a3",
   "metadata": {},
   "source": [
    "Для C табличные значения: 42.7 г/см3; 19.32 см"
   ]
  },
  {
   "cell_type": "code",
   "execution_count": null,
   "id": "f4f01c2d",
   "metadata": {},
   "outputs": [],
   "source": [
    "# Al\n",
    "X0(26.9815386, 13, 2.6989)"
   ]
  },
  {
   "cell_type": "markdown",
   "id": "b1bf4dd0",
   "metadata": {},
   "source": [
    "Для Al табличные значения: 24.01 г/см3; 8.897 см"
   ]
  },
  {
   "cell_type": "code",
   "execution_count": null,
   "id": "c6fbd521",
   "metadata": {},
   "outputs": [],
   "source": [
    "# H\n",
    "X0(1.00784, 1, RO_H)"
   ]
  },
  {
   "cell_type": "markdown",
   "id": "31d3941d",
   "metadata": {},
   "source": [
    "Для H табличные значения: 63.04 г / см2; 890.4 см"
   ]
  },
  {
   "cell_type": "markdown",
   "id": "6d4a093c",
   "metadata": {},
   "source": [
    "**Вывод**\n",
    "\n",
    "С некоторой точность, формула работает верно!"
   ]
  },
  {
   "cell_type": "markdown",
   "id": "d2ce65dd",
   "metadata": {},
   "source": [
    "# Зависимость радиуса и массы детектора"
   ]
  },
  {
   "cell_type": "code",
   "execution_count": 13,
   "id": "ffca3af0",
   "metadata": {},
   "outputs": [],
   "source": [
    "def mass(R):\n",
    "    ro_scint = 1.032 # g / cm3\n",
    "    ro_wolfram = 19.25 # g / cm3\n",
    "    NORM = (4. / 3.) * pi\n",
    "\n",
    "    # Внутренний слой сцинтилятор\n",
    "    m_scint = 0.\n",
    "    m_wolfram = 0.\n",
    "    r_scint = 0.\n",
    "    r_wolfram = 0.\n",
    "    for ri in range(R):\n",
    "        r_scint = ri + 0.9\n",
    "        r_wolfram = ri \n",
    "        m_scint +=  (r_scint**3 - r_wolfram**3) * ro_scint \n",
    "        m_wolfram += ((r_wolfram + 1.)**3 - r_scint**3) * ro_wolfram \n",
    "\n",
    "    m_scint *= NORM\n",
    "    m_wolfram *= NORM\n",
    "    \n",
    "    return round((m_scint + m_wolfram) / 10**6, 2)\n"
   ]
  },
  {
   "cell_type": "code",
   "execution_count": 49,
   "id": "400c774d",
   "metadata": {},
   "outputs": [
    {
     "data": {
      "image/png": "[encoded data removed]",
      "text/plain": [
       "<Figure size 640x480 with 1 Axes>"
      ]
     },
     "metadata": {},
     "output_type": "display_data"
    }
   ],
   "source": [
    "Rmax = 250 # cm\n",
    "R_list = [0.] * Rmax\n",
    "M_list = [0.] * Rmax\n",
    "\n",
    "\n",
    "Ri = 0\n",
    "for i in range(Rmax):\n",
    "    Ri = i + 1\n",
    "    R_list[i] = Ri\n",
    "    M_list[i] = mass(Ri)\n",
    "\n",
    "fig, ax = plt.subplots()\n",
    "plt.plot(R_list, M_list)\n",
    "ax.set_title('зависимость массы детектора от радиуса')\n",
    "ax.set_xlabel('Радиус [см]')\n",
    "plt.grid(True)\n",
    "ax.set_ylabel('Масса [тонн]');"
   ]
  },
  {
   "cell_type": "code",
   "execution_count": 56,
   "id": "12f05c86",
   "metadata": {},
   "outputs": [
    {
     "data": {
      "image/png": "[encoded data removed]",
      "text/plain": [
       "<Figure size 640x480 with 1 Axes>"
      ]
     },
     "metadata": {},
     "output_type": "display_data"
    }
   ],
   "source": [
    "fig, ax = plt.subplots()\n",
    "plt.plot(M_list, R_list)\n",
    "ax.set_title('зависимость радиуса детектора от массы')\n",
    "ax.set_xlabel('Масса [тонн]')\n",
    "plt.grid(True)\n",
    "ax.set_ylabel('Радиус [см]');"
   ]
  },
  {
   "cell_type": "code",
   "execution_count": 60,
   "id": "304a4786",
   "metadata": {},
   "outputs": [
    {
     "name": "stdout",
     "output_type": "stream",
     "text": [
      "9.7 - 10.02\n"
     ]
    }
   ],
   "source": [
    "print(mass(93), '-', mass(94))"
   ]
  },
  {
   "cell_type": "code",
   "execution_count": 68,
   "id": "092b4e00",
   "metadata": {},
   "outputs": [
    {
     "name": "stdout",
     "output_type": "stream",
     "text": [
      "29.6 - 30.26\n"
     ]
    }
   ],
   "source": [
    "print(mass(135), '-', mass(136))"
   ]
  },
  {
   "cell_type": "code",
   "execution_count": 73,
   "id": "c03e4710",
   "metadata": {},
   "outputs": [
    {
     "name": "stdout",
     "output_type": "stream",
     "text": [
      "68.89 - 70.05\n"
     ]
    }
   ],
   "source": [
    "print(mass(179), '-', mass(180))"
   ]
  },
  {
   "cell_type": "code",
   "execution_count": null,
   "id": "be0deb12",
   "metadata": {},
   "outputs": [],
   "source": []
  }
 ],
 "metadata": {
  "kernelspec": {
   "display_name": "Python 3 (ipykernel)",
   "language": "python",
   "name": "python3"
  },
  "language_info": {
   "codemirror_mode": {
    "name": "ipython",
    "version": 3
   },
   "file_extension": ".py",
   "mimetype": "text/x-python",
   "name": "python",
   "nbconvert_exporter": "python",
   "pygments_lexer": "ipython3",
   "version": "3.8.10"
  }
 },
 "nbformat": 4,
 "nbformat_minor": 5
}
