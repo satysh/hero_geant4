{
 "cells": [
  {
   "cell_type": "code",
   "execution_count": 26,
   "id": "fc2e3479",
   "metadata": {},
   "outputs": [],
   "source": [
    "from math import pi\n",
    "from math import log"
   ]
  },
  {
   "cell_type": "markdown",
   "id": "151d613b",
   "metadata": {},
   "source": [
    "# Расчет массы детектора"
   ]
  },
  {
   "cell_type": "code",
   "execution_count": 49,
   "id": "7d5d7d82",
   "metadata": {},
   "outputs": [],
   "source": [
    "NORM = (4. / 3. ) * pi\n",
    "RO_SCINT = 1.032 # g / cm3\n",
    "RO_W = 19.3 # g / cm3\n",
    "RO_H = 0.0000899 # g / cm3\n",
    "RO_B = 2.34 # g / cm3"
   ]
  },
  {
   "cell_type": "code",
   "execution_count": 7,
   "id": "619799cc",
   "metadata": {},
   "outputs": [],
   "source": [
    "def scint_vol(R):\n",
    "    res = 0.\n",
    "    for r in range(1, R + 1):\n",
    "        res += 2.7 * r**2 - 2.97 * r + 0.999\n",
    "        \n",
    "    return NORM * res"
   ]
  },
  {
   "cell_type": "code",
   "execution_count": 5,
   "id": "fbce5b33",
   "metadata": {},
   "outputs": [],
   "source": [
    "def w_vol(R):\n",
    "    res = 0.\n",
    "    for r in range(1, R + 1):\n",
    "        res += 0.3 * r**2 - 0.03 * r + 0.001\n",
    "    \n",
    "    return NORM * res"
   ]
  },
  {
   "cell_type": "code",
   "execution_count": 10,
   "id": "459dfbf1",
   "metadata": {},
   "outputs": [],
   "source": [
    "Radius = 125 # cm"
   ]
  },
  {
   "cell_type": "code",
   "execution_count": 18,
   "id": "39cdf8c5",
   "metadata": {},
   "outputs": [
    {
     "name": "stdout",
     "output_type": "stream",
     "text": [
      "detectors mass is 23.55 tons\n",
      "scint mass is 7.59 tons\n",
      "w mass is 15.96 tons\n"
     ]
    }
   ],
   "source": [
    "det_mass = RO_SCINT * scint_vol(Radius) + RO_W * w_vol(Radius)\n",
    "print('detectors mass is', round(det_mass / 10**6, 2), 'tons')\n",
    "print('scint mass is', round(RO_SCINT * scint_vol(Radius) / 10**6, 2), 'tons')\n",
    "print('w mass is', round(RO_W * w_vol(Radius) / 10**6, 2), 'tons')"
   ]
  },
  {
   "cell_type": "code",
   "execution_count": 48,
   "id": "1fc4b83a",
   "metadata": {},
   "outputs": [],
   "source": [
    "RO_SCINT = 1.1006 # g / cm3\n",
    "RO_W = 19.25 # g / cm3"
   ]
  },
  {
   "cell_type": "code",
   "execution_count": 23,
   "id": "b0d4ab65",
   "metadata": {},
   "outputs": [
    {
     "name": "stdout",
     "output_type": "stream",
     "text": [
      "detectors mass is 24.01 tons\n",
      "scint mass is 8.09 tons\n",
      "w mass is 15.92 tons\n"
     ]
    }
   ],
   "source": [
    "det_mass = RO_SCINT * scint_vol(Radius) + RO_W * w_vol(Radius)\n",
    "print('detectors mass is', round(det_mass / 10**6, 2), 'tons')\n",
    "print('scint mass is', round(RO_SCINT * scint_vol(Radius) / 10**6, 2), 'tons')\n",
    "print('w mass is', round(RO_W * w_vol(Radius) / 10**6, 2), 'tons')"
   ]
  },
  {
   "cell_type": "markdown",
   "id": "87c3d88a",
   "metadata": {},
   "source": [
    "# Исследование радиационной длины детектора"
   ]
  },
  {
   "cell_type": "markdown",
   "id": "2a56ac9c",
   "metadata": {},
   "source": [
    "Радиационная длина это растояние, которое проходит частица в веществе и ее энергия при этом уменьшается в е раз."
   ]
  },
  {
   "cell_type": "code",
   "execution_count": 41,
   "id": "cd1ff971",
   "metadata": {},
   "outputs": [],
   "source": [
    "def X0(A, Z, ro):\n",
    "    x0 = 716.4 * A / (Z * (Z + 1) * log(287 / Z**0.5))\n",
    "    print(round(x0, 2), 'g / cm2;', round(x0 / ro, 2), 'cm')"
   ]
  },
  {
   "cell_type": "code",
   "execution_count": 42,
   "id": "6c774ed5",
   "metadata": {},
   "outputs": [
    {
     "name": "stdout",
     "output_type": "stream",
     "text": [
      "6.77 g / cm2; 0.35 cm\n"
     ]
    }
   ],
   "source": [
    "# W\n",
    "X0(183.84, 74, RO_W)"
   ]
  },
  {
   "cell_type": "code",
   "execution_count": 43,
   "id": "6003c271",
   "metadata": {},
   "outputs": [
    {
     "name": "stdout",
     "output_type": "stream",
     "text": [
      "43.0 g / cm2; 19.2 cm\n"
     ]
    }
   ],
   "source": [
    "# C\n",
    "X0(12.0096, 6, 2.24)"
   ]
  },
  {
   "cell_type": "markdown",
   "id": "8be7c0a3",
   "metadata": {},
   "source": [
    "Для C табличные значения: 42.7 г/см3; 19.32 см"
   ]
  },
  {
   "cell_type": "code",
   "execution_count": 44,
   "id": "f4f01c2d",
   "metadata": {},
   "outputs": [
    {
     "name": "stdout",
     "output_type": "stream",
     "text": [
      "24.26 g / cm2; 8.99 cm\n"
     ]
    }
   ],
   "source": [
    "# Al\n",
    "X0(26.9815386, 13, 2.6989)"
   ]
  },
  {
   "cell_type": "markdown",
   "id": "b1bf4dd0",
   "metadata": {},
   "source": [
    "Для Al табличные значения: 24.01 г/см3; 8.897 см"
   ]
  },
  {
   "cell_type": "code",
   "execution_count": 50,
   "id": "c6fbd521",
   "metadata": {},
   "outputs": [
    {
     "name": "stdout",
     "output_type": "stream",
     "text": [
      "63.79 g / cm2; 709546.37 cm\n"
     ]
    }
   ],
   "source": [
    "# H\n",
    "X0(1.00784, 1, RO_H)"
   ]
  },
  {
   "cell_type": "markdown",
   "id": "31d3941d",
   "metadata": {},
   "source": [
    "Для H табличные значения: 63.04 г / см2; 890.4 см"
   ]
  },
  {
   "cell_type": "markdown",
   "id": "6d4a093c",
   "metadata": {},
   "source": [
    "**Вывод**\n",
    "\n",
    "С некоторой точность, формула работает верно!"
   ]
  },
  {
   "cell_type": "code",
   "execution_count": null,
   "id": "47792dee",
   "metadata": {},
   "outputs": [],
   "source": []
  }
 ],
 "metadata": {
  "kernelspec": {
   "display_name": "Python 3 (ipykernel)",
   "language": "python",
   "name": "python3"
  },
  "language_info": {
   "codemirror_mode": {
    "name": "ipython",
    "version": 3
   },
   "file_extension": ".py",
   "mimetype": "text/x-python",
   "name": "python",
   "nbconvert_exporter": "python",
   "pygments_lexer": "ipython3",
   "version": "3.8.10"
  }
 },
 "nbformat": 4,
 "nbformat_minor": 5
}
